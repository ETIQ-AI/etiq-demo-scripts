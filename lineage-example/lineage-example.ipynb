{
 "cells": [
  {
   "cell_type": "code",
   "execution_count": null,
   "id": "a9e18d3a-67c8-4602-8c7d-d782ba95ea69",
   "metadata": {},
   "outputs": [],
   "source": [
    "from sklearn import datasets\n",
    "import sklearn.model_selection\n",
    "from sklearn.ensemble import RandomForestClassifier\n",
    "import pandas as pd"
   ]
  },
  {
   "cell_type": "code",
   "execution_count": null,
   "id": "df73de4c-841a-4df0-a644-35b9e5e1f73a",
   "metadata": {},
   "outputs": [],
   "source": [
    "pd.options.mode.copy_on_write = False\n",
    "\n",
    "# load in the iris dataset\n",
    "iris = datasets.load_iris()"
   ]
  },
  {
   "cell_type": "code",
   "execution_count": 2,
   "id": "b8c7c8b2-72f2-4668-9f3f-d8caf476bc3d",
   "metadata": {},
   "outputs": [],
   "source": [
    "# convert to a pandas dataframe\n",
    "iris_df = pd.DataFrame(iris.data, columns=iris.feature_names)\n",
    "\n",
    "# set the target\n",
    "iris_df[\"target\"] = iris.target\n",
    "\n",
    "# create a train/test split\n",
    "iris_train_df, iris_test_df = sklearn.model_selection.train_test_split(\n",
    "    iris_df, test_size=0.2\n",
    ")"
   ]
  },
  {
   "cell_type": "code",
   "execution_count": null,
   "id": "2eb0a8b2-18bc-40fe-b5f7-88cedaf4f2e7",
   "metadata": {},
   "outputs": [],
   "source": [
    "# set up a Random Forest Classifier\n",
    "amodel = RandomForestClassifier(random_state=0)\n",
    "\n",
    "# create train and test feature and target datasets\n",
    "iris_training_features = iris_train_df[iris.feature_names].copy()\n",
    "iris_test_features = iris_test_df[iris.feature_names].copy()\n",
    "iris_target_training = iris_train_df[\"target\"].copy()"
   ]
  },
  {
   "cell_type": "code",
   "execution_count": null,
   "id": "0d3081ff-2827-45cc-a9b1-5ac11f569da6",
   "metadata": {},
   "outputs": [],
   "source": [
    "# train the model\n",
    "amodel.fit(iris_training_features, iris_target_training)"
   ]
  },
  {
   "cell_type": "code",
   "execution_count": null,
   "id": "1edfff26-5a89-4411-81f5-318eea884ada",
   "metadata": {},
   "outputs": [],
   "source": [
    "# predict against the test set\n",
    "iris_target_testing = iris_test_df[\"target\"].copy()\n",
    "preds = amodel.predict(iris_test_features)\n",
    "\n",
    "# show predictions\n",
    "print(preds)"
   ]
  }
 ],
 "metadata": {
  "kernelspec": {
   "display_name": "Python 3 (ipykernel)",
   "language": "python",
   "name": "python3"
  },
  "language_info": {
   "codemirror_mode": {
    "name": "ipython",
    "version": 3
   },
   "file_extension": ".py",
   "mimetype": "text/x-python",
   "name": "python",
   "nbconvert_exporter": "python",
   "pygments_lexer": "ipython3",
   "version": "3.12.9"
  }
 },
 "nbformat": 4,
 "nbformat_minor": 5
}
